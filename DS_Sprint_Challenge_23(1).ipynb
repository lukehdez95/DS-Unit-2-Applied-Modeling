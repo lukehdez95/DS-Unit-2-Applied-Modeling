{
 "cells": [
  {
   "cell_type": "markdown",
   "metadata": {
    "deletable": false,
    "editable": false,
    "id": "gznO5p_thkha",
    "nbgrader": {
     "cell_type": "markdown",
     "checksum": "26331cfec4792162c2f8fe9b562702d2",
     "grade": false,
     "grade_id": "cell-f2b2468124042cfe",
     "locked": true,
     "schema_version": 3,
     "solution": false,
     "task": false
    }
   },
   "source": [
    "_Lambda School Data Science, Unit 2_\n",
    "\n",
    "---\n",
    "\n",
    "👇 **Do not change the code in this cell.** If you're working in Google Colab, you can run this cell to install `category_encoders` and `pdpbox`."
   ]
  },
  {
   "cell_type": "code",
   "execution_count": 1,
   "metadata": {
    "deletable": false,
    "editable": false,
    "id": "Lc-ORHQZhkhg",
    "nbgrader": {
     "cell_type": "code",
     "checksum": "6e84593629f1e735cc6423e463199480",
     "grade": false,
     "grade_id": "cell-656c869f2d287493",
     "locked": true,
     "schema_version": 3,
     "solution": false,
     "task": false
    }
   },
   "outputs": [],
   "source": [
    "%%capture\n",
    "import sys\n",
    "\n",
    "if 'google.colab' in sys.modules:\n",
    "    !pip install category_encoders\n",
    "    !pip install pdpbox"
   ]
  },
  {
   "cell_type": "markdown",
   "metadata": {
    "deletable": false,
    "editable": false,
    "id": "C-NxCLOIhkhh",
    "nbgrader": {
     "cell_type": "markdown",
     "checksum": "be6f7489d8b09d515eed676f06ac2d3b",
     "grade": false,
     "grade_id": "cell-dbdc2fe26ba31738",
     "locked": true,
     "schema_version": 3,
     "solution": false,
     "task": false
    }
   },
   "source": [
    "# Sprint Challenge: Predict Chicago Food Inspections 🍕\n",
    "\n",
    "In this challenge, you'll use data from the [Chicago Department of Public Health](https://www.chicago.gov/city/en/depts/cdph/provdrs/healthy_restaurants/svcs/food-protection-services.html) to build a model to predict whether a food establishment passed inspection or not.\n",
    "\n",
    "The purpose of this model is to help inspectors use their time more efficiently by identifying establishments that will likely fail inspection. In other words, this model should be able to predict whether an establishment will fail inspection *before* the inspector arrives at the establishment. \n",
    "\n",
    "# Directions\n",
    "\n",
    "This notebook contains 12 tasks, which cover the material we've learned in this sprint. Here's a summary:\n",
    "\n",
    "- **Task 1:** Importing data.\n",
    "- **Task 2:** Identifying data leakage.\n",
    "- **Task 3:** Writing a wrangle function.\n",
    "- **Task 4:** Splitting data into a feature matrix and target vector.\n",
    "- **Task 5:** Splitting data into training and validation sets.\n",
    "- **Task 6:** Establishing baseline accuracy.\n",
    "- **Task 7:** Building model with bagging predictor.\n",
    "- **Task 8:** Building model with boosting predictor.\n",
    "- **Task 9 (`stretch goal`):** Plotting ROC curves.\n",
    "- **Task 10:** Generating classification report.\n",
    "- **Task 11:** Calculating permutation importances.\n",
    "- **Task 12 (`stretch goal`):** Creating PDP interaction plot.\n",
    "\n",
    "For each task you should do the following:\n",
    "\n",
    "- Read the task instructions.\n",
    "- Write your code in the cell below the task. Delete the `raise NotImplementedError` before your start.\n",
    "- Run the testing cell below the task. If you get an error, read the error message and re-evaluate your code.\n",
    "\n",
    "**You should limit your code to the following libraries:**\n",
    "\n",
    "- `category_encoders`\n",
    "- `numpy`\n",
    "- `matplotlib`\n",
    "- `pandas`\n",
    "- `pdpbox`\n",
    "- `sklearn`\n",
    "- `xgboost`\n",
    "\n",
    "**A word of warning:** The virtual machine that will check your answers is small. So, where applicable, don't use huge values for `n_estimators` (`>100`) or `n_jobs` (keep at `-1`). \n",
    "\n",
    "If you'd like to import all your libraries at the start of your notebook, you can do so in the code block below 👇"
   ]
  },
  {
   "cell_type": "code",
   "execution_count": 2,
   "metadata": {
    "deletable": false,
    "id": "R1lgR4Fchkhi",
    "nbgrader": {
     "cell_type": "code",
     "checksum": "313c53b0dc59a11bb7bfaefbf995fe2c",
     "grade": false,
     "grade_id": "cell-44be413734e30691",
     "locked": false,
     "schema_version": 3,
     "solution": true,
     "task": false
    }
   },
   "outputs": [],
   "source": [
    "import numpy as np\n",
    "import pandas as pd\n",
    "import matplotlib.pyplot as plt"
   ]
  },
  {
   "cell_type": "markdown",
   "metadata": {
    "deletable": false,
    "editable": false,
    "id": "qNQVgysuhkhj",
    "nbgrader": {
     "cell_type": "markdown",
     "checksum": "48dd82293df0d9af1aa7efac7f7468fa",
     "grade": false,
     "grade_id": "cell-602d346d44303e87",
     "locked": true,
     "schema_version": 3,
     "solution": false,
     "task": false
    }
   },
   "source": [
    "# I. Wrangle Data\n",
    "\n",
    "**Task 1:** Change the code below to import your dataset. Be sure to examine the columns carefully and determine if one of them should be set as the index."
   ]
  },
  {
   "cell_type": "code",
   "execution_count": 3,
   "metadata": {
    "colab": {
     "base_uri": "https://localhost:8080/",
     "height": 960
    },
    "deletable": false,
    "id": "wq9g9nU8hkhj",
    "nbgrader": {
     "cell_type": "code",
     "checksum": "dafd956974169191567e3544c18186a5",
     "grade": false,
     "grade_id": "cell-8b9246d8d97a80ff",
     "locked": false,
     "schema_version": 3,
     "solution": true,
     "task": false
    },
    "outputId": "063492c5-1273-4ddf-8c88-a7ef890646cd"
   },
   "outputs": [
    {
     "name": "stdout",
     "output_type": "stream",
     "text": [
      "(51916, 17)\n"
     ]
    },
    {
     "data": {
      "text/html": [
       "<div>\n",
       "<style scoped>\n",
       "    .dataframe tbody tr th:only-of-type {\n",
       "        vertical-align: middle;\n",
       "    }\n",
       "\n",
       "    .dataframe tbody tr th {\n",
       "        vertical-align: top;\n",
       "    }\n",
       "\n",
       "    .dataframe thead th {\n",
       "        text-align: right;\n",
       "    }\n",
       "</style>\n",
       "<table border=\"1\" class=\"dataframe\">\n",
       "  <thead>\n",
       "    <tr style=\"text-align: right;\">\n",
       "      <th></th>\n",
       "      <th>Inspection ID</th>\n",
       "      <th>DBA Name</th>\n",
       "      <th>AKA Name</th>\n",
       "      <th>License #</th>\n",
       "      <th>Facility Type</th>\n",
       "      <th>Risk</th>\n",
       "      <th>Address</th>\n",
       "      <th>City</th>\n",
       "      <th>State</th>\n",
       "      <th>Zip</th>\n",
       "      <th>Inspection Type</th>\n",
       "      <th>Violations</th>\n",
       "      <th>Latitude</th>\n",
       "      <th>Longitude</th>\n",
       "      <th>Location</th>\n",
       "      <th>Fail</th>\n",
       "      <th>Serious Violations Found</th>\n",
       "    </tr>\n",
       "    <tr>\n",
       "      <th>Inspection Date</th>\n",
       "      <th></th>\n",
       "      <th></th>\n",
       "      <th></th>\n",
       "      <th></th>\n",
       "      <th></th>\n",
       "      <th></th>\n",
       "      <th></th>\n",
       "      <th></th>\n",
       "      <th></th>\n",
       "      <th></th>\n",
       "      <th></th>\n",
       "      <th></th>\n",
       "      <th></th>\n",
       "      <th></th>\n",
       "      <th></th>\n",
       "      <th></th>\n",
       "      <th></th>\n",
       "    </tr>\n",
       "  </thead>\n",
       "  <tbody>\n",
       "    <tr>\n",
       "      <th>2017-09-15</th>\n",
       "      <td>2088270</td>\n",
       "      <td>TOM YUM RICE &amp; NOODLE, INC.</td>\n",
       "      <td>TOM YUM CAFE</td>\n",
       "      <td>2354911.0</td>\n",
       "      <td>Restaurant</td>\n",
       "      <td>Risk 1 (High)</td>\n",
       "      <td>608 W BARRY</td>\n",
       "      <td>CHICAGO</td>\n",
       "      <td>IL</td>\n",
       "      <td>60657.0</td>\n",
       "      <td>Canvass</td>\n",
       "      <td>3. POTENTIALLY HAZARDOUS FOOD MEETS TEMPERATUR...</td>\n",
       "      <td>41.938007</td>\n",
       "      <td>-87.644755</td>\n",
       "      <td>{'longitude': '-87.6447545707008', 'latitude':...</td>\n",
       "      <td>1</td>\n",
       "      <td>2.0</td>\n",
       "    </tr>\n",
       "    <tr>\n",
       "      <th>2011-10-20</th>\n",
       "      <td>555268</td>\n",
       "      <td>FILLING STATION  &amp; CONVENIENCE  STORE</td>\n",
       "      <td>FILLING STATION  &amp; CONVENIENCE  STORE</td>\n",
       "      <td>1044901.0</td>\n",
       "      <td>Grocery Store</td>\n",
       "      <td>Risk 3 (Low)</td>\n",
       "      <td>6646-6658 S WESTERN AVE</td>\n",
       "      <td>CHICAGO</td>\n",
       "      <td>IL</td>\n",
       "      <td>60636.0</td>\n",
       "      <td>Complaint Re-Inspection</td>\n",
       "      <td>32. FOOD AND NON-FOOD CONTACT SURFACES PROPERL...</td>\n",
       "      <td>41.772402</td>\n",
       "      <td>-87.683603</td>\n",
       "      <td>{'longitude': '-87.68360273081268', 'latitude'...</td>\n",
       "      <td>0</td>\n",
       "      <td>0.0</td>\n",
       "    </tr>\n",
       "    <tr>\n",
       "      <th>2016-04-05</th>\n",
       "      <td>1751394</td>\n",
       "      <td>A P DELI</td>\n",
       "      <td>A P DELI</td>\n",
       "      <td>47405.0</td>\n",
       "      <td>Restaurant</td>\n",
       "      <td>Risk 1 (High)</td>\n",
       "      <td>2025 E 75TH ST</td>\n",
       "      <td>CHICAGO</td>\n",
       "      <td>IL</td>\n",
       "      <td>60649.0</td>\n",
       "      <td>Canvass Re-Inspection</td>\n",
       "      <td>35. WALLS, CEILINGS, ATTACHED EQUIPMENT CONSTR...</td>\n",
       "      <td>41.758779</td>\n",
       "      <td>-87.575054</td>\n",
       "      <td>{'longitude': '-87.57505446746121', 'latitude'...</td>\n",
       "      <td>0</td>\n",
       "      <td>0.0</td>\n",
       "    </tr>\n",
       "    <tr>\n",
       "      <th>2016-04-29</th>\n",
       "      <td>1763905</td>\n",
       "      <td>FRANK'S CHICAGO SHRIMP HOUSE</td>\n",
       "      <td>FRANK'S CHICAGO SHRIMP HOUSE</td>\n",
       "      <td>6414.0</td>\n",
       "      <td>Restaurant</td>\n",
       "      <td>Risk 2 (Medium)</td>\n",
       "      <td>4459 S ARCHER AVE</td>\n",
       "      <td>CHICAGO</td>\n",
       "      <td>IL</td>\n",
       "      <td>60632.0</td>\n",
       "      <td>Canvass</td>\n",
       "      <td>38. VENTILATION: ROOMS AND EQUIPMENT VENTED AS...</td>\n",
       "      <td>41.812181</td>\n",
       "      <td>-87.707125</td>\n",
       "      <td>{'longitude': '-87.70712481334274', 'latitude'...</td>\n",
       "      <td>0</td>\n",
       "      <td>0.0</td>\n",
       "    </tr>\n",
       "    <tr>\n",
       "      <th>2011-01-10</th>\n",
       "      <td>453326</td>\n",
       "      <td>MORRILL</td>\n",
       "      <td>MORRILL</td>\n",
       "      <td>24571.0</td>\n",
       "      <td>School</td>\n",
       "      <td>Risk 1 (High)</td>\n",
       "      <td>6011 S Rockwell (2600W) AVE</td>\n",
       "      <td>CHICAGO</td>\n",
       "      <td>IL</td>\n",
       "      <td>60629.0</td>\n",
       "      <td>Canvass</td>\n",
       "      <td>34. FLOORS: CONSTRUCTED PER CODE, CLEANED, GOO...</td>\n",
       "      <td>NaN</td>\n",
       "      <td>NaN</td>\n",
       "      <td>NaN</td>\n",
       "      <td>0</td>\n",
       "      <td>0.0</td>\n",
       "    </tr>\n",
       "    <tr>\n",
       "      <th>...</th>\n",
       "      <td>...</td>\n",
       "      <td>...</td>\n",
       "      <td>...</td>\n",
       "      <td>...</td>\n",
       "      <td>...</td>\n",
       "      <td>...</td>\n",
       "      <td>...</td>\n",
       "      <td>...</td>\n",
       "      <td>...</td>\n",
       "      <td>...</td>\n",
       "      <td>...</td>\n",
       "      <td>...</td>\n",
       "      <td>...</td>\n",
       "      <td>...</td>\n",
       "      <td>...</td>\n",
       "      <td>...</td>\n",
       "      <td>...</td>\n",
       "    </tr>\n",
       "    <tr>\n",
       "      <th>2013-10-29</th>\n",
       "      <td>1370030</td>\n",
       "      <td>VANILLE PATTISSERIE</td>\n",
       "      <td>VANILLE PATTISSERIE</td>\n",
       "      <td>2129404.0</td>\n",
       "      <td>Grocery Store</td>\n",
       "      <td>Risk 2 (Medium)</td>\n",
       "      <td>131 N CLINTON ST</td>\n",
       "      <td>CHICAGO</td>\n",
       "      <td>IL</td>\n",
       "      <td>60661.0</td>\n",
       "      <td>Canvass</td>\n",
       "      <td>NaN</td>\n",
       "      <td>41.884188</td>\n",
       "      <td>-87.641120</td>\n",
       "      <td>{'longitude': '-87.64111966683218', 'latitude'...</td>\n",
       "      <td>0</td>\n",
       "      <td>NaN</td>\n",
       "    </tr>\n",
       "    <tr>\n",
       "      <th>2011-02-25</th>\n",
       "      <td>579387</td>\n",
       "      <td>CHICAGO STEAK HOUSE</td>\n",
       "      <td>CHICAGO STEAK HOUSE</td>\n",
       "      <td>2079910.0</td>\n",
       "      <td>Restaurant</td>\n",
       "      <td>Risk 2 (Medium)</td>\n",
       "      <td>219 E 47TH ST</td>\n",
       "      <td>CHICAGO</td>\n",
       "      <td>IL</td>\n",
       "      <td>60653.0</td>\n",
       "      <td>License Re-Inspection</td>\n",
       "      <td>NaN</td>\n",
       "      <td>41.809214</td>\n",
       "      <td>-87.620308</td>\n",
       "      <td>{'longitude': '-87.62030817634384', 'latitude'...</td>\n",
       "      <td>0</td>\n",
       "      <td>NaN</td>\n",
       "    </tr>\n",
       "    <tr>\n",
       "      <th>2018-05-14</th>\n",
       "      <td>2169678</td>\n",
       "      <td>JEWEL FOOD STORE #3043</td>\n",
       "      <td>JEWEL FOOD STORE #3043</td>\n",
       "      <td>1144384.0</td>\n",
       "      <td>Grocery Store</td>\n",
       "      <td>Risk 1 (High)</td>\n",
       "      <td>443 E 34TH ST</td>\n",
       "      <td>CHICAGO</td>\n",
       "      <td>IL</td>\n",
       "      <td>60616.0</td>\n",
       "      <td>Canvass Re-Inspection</td>\n",
       "      <td>33. FOOD AND NON-FOOD CONTACT EQUIPMENT UTENSI...</td>\n",
       "      <td>41.833045</td>\n",
       "      <td>-87.614611</td>\n",
       "      <td>{'longitude': '-87.61461136443168', 'latitude'...</td>\n",
       "      <td>0</td>\n",
       "      <td>0.0</td>\n",
       "    </tr>\n",
       "    <tr>\n",
       "      <th>2015-11-30</th>\n",
       "      <td>1588969</td>\n",
       "      <td>RESTAURANTE SALVADORENO OLOCUILTA INC.</td>\n",
       "      <td>RESTAURANTE SALVADORENO OLOCUILTA</td>\n",
       "      <td>2308079.0</td>\n",
       "      <td>Restaurant</td>\n",
       "      <td>Risk 1 (High)</td>\n",
       "      <td>3040 N LARAMIE AVE</td>\n",
       "      <td>CHICAGO</td>\n",
       "      <td>IL</td>\n",
       "      <td>60641.0</td>\n",
       "      <td>Canvass Re-Inspection</td>\n",
       "      <td>NaN</td>\n",
       "      <td>41.936300</td>\n",
       "      <td>-87.756750</td>\n",
       "      <td>{'longitude': '-87.75674980489909', 'latitude'...</td>\n",
       "      <td>0</td>\n",
       "      <td>NaN</td>\n",
       "    </tr>\n",
       "    <tr>\n",
       "      <th>2010-09-29</th>\n",
       "      <td>114560</td>\n",
       "      <td>BURRITO BEACH # 8</td>\n",
       "      <td>BURRITO BEACH</td>\n",
       "      <td>1491413.0</td>\n",
       "      <td>Restaurant</td>\n",
       "      <td>Risk 1 (High)</td>\n",
       "      <td>200 E OHIO ST</td>\n",
       "      <td>CHICAGO</td>\n",
       "      <td>IL</td>\n",
       "      <td>60611.0</td>\n",
       "      <td>Canvass</td>\n",
       "      <td>33. FOOD AND NON-FOOD CONTACT EQUIPMENT UTENSI...</td>\n",
       "      <td>41.892671</td>\n",
       "      <td>-87.622572</td>\n",
       "      <td>{'longitude': '-87.62257220248128', 'latitude'...</td>\n",
       "      <td>0</td>\n",
       "      <td>0.0</td>\n",
       "    </tr>\n",
       "  </tbody>\n",
       "</table>\n",
       "<p>51916 rows × 17 columns</p>\n",
       "</div>"
      ],
      "text/plain": [
       "                 Inspection ID                                DBA Name  \\\n",
       "Inspection Date                                                          \n",
       "2017-09-15             2088270             TOM YUM RICE & NOODLE, INC.   \n",
       "2011-10-20              555268   FILLING STATION  & CONVENIENCE  STORE   \n",
       "2016-04-05             1751394                                A P DELI   \n",
       "2016-04-29             1763905            FRANK'S CHICAGO SHRIMP HOUSE   \n",
       "2011-01-10              453326                                 MORRILL   \n",
       "...                        ...                                     ...   \n",
       "2013-10-29             1370030                     VANILLE PATTISSERIE   \n",
       "2011-02-25              579387                     CHICAGO STEAK HOUSE   \n",
       "2018-05-14             2169678                  JEWEL FOOD STORE #3043   \n",
       "2015-11-30             1588969  RESTAURANTE SALVADORENO OLOCUILTA INC.   \n",
       "2010-09-29              114560                       BURRITO BEACH # 8   \n",
       "\n",
       "                                              AKA Name  License #  \\\n",
       "Inspection Date                                                     \n",
       "2017-09-15                                TOM YUM CAFE  2354911.0   \n",
       "2011-10-20       FILLING STATION  & CONVENIENCE  STORE  1044901.0   \n",
       "2016-04-05                                    A P DELI    47405.0   \n",
       "2016-04-29                FRANK'S CHICAGO SHRIMP HOUSE     6414.0   \n",
       "2011-01-10                                     MORRILL    24571.0   \n",
       "...                                                ...        ...   \n",
       "2013-10-29                         VANILLE PATTISSERIE  2129404.0   \n",
       "2011-02-25                         CHICAGO STEAK HOUSE  2079910.0   \n",
       "2018-05-14                      JEWEL FOOD STORE #3043  1144384.0   \n",
       "2015-11-30           RESTAURANTE SALVADORENO OLOCUILTA  2308079.0   \n",
       "2010-09-29                               BURRITO BEACH  1491413.0   \n",
       "\n",
       "                 Facility Type             Risk                       Address  \\\n",
       "Inspection Date                                                                 \n",
       "2017-09-15          Restaurant    Risk 1 (High)                  608 W BARRY    \n",
       "2011-10-20       Grocery Store     Risk 3 (Low)      6646-6658 S WESTERN AVE    \n",
       "2016-04-05          Restaurant    Risk 1 (High)               2025 E 75TH ST    \n",
       "2016-04-29          Restaurant  Risk 2 (Medium)            4459 S ARCHER AVE    \n",
       "2011-01-10              School    Risk 1 (High)  6011 S Rockwell (2600W) AVE    \n",
       "...                        ...              ...                           ...   \n",
       "2013-10-29       Grocery Store  Risk 2 (Medium)             131 N CLINTON ST    \n",
       "2011-02-25          Restaurant  Risk 2 (Medium)                219 E 47TH ST    \n",
       "2018-05-14       Grocery Store    Risk 1 (High)                443 E 34TH ST    \n",
       "2015-11-30          Restaurant    Risk 1 (High)           3040 N LARAMIE AVE    \n",
       "2010-09-29          Restaurant    Risk 1 (High)                200 E OHIO ST    \n",
       "\n",
       "                    City State      Zip          Inspection Type  \\\n",
       "Inspection Date                                                    \n",
       "2017-09-15       CHICAGO    IL  60657.0                  Canvass   \n",
       "2011-10-20       CHICAGO    IL  60636.0  Complaint Re-Inspection   \n",
       "2016-04-05       CHICAGO    IL  60649.0    Canvass Re-Inspection   \n",
       "2016-04-29       CHICAGO    IL  60632.0                  Canvass   \n",
       "2011-01-10       CHICAGO    IL  60629.0                  Canvass   \n",
       "...                  ...   ...      ...                      ...   \n",
       "2013-10-29       CHICAGO    IL  60661.0                  Canvass   \n",
       "2011-02-25       CHICAGO    IL  60653.0    License Re-Inspection   \n",
       "2018-05-14       CHICAGO    IL  60616.0    Canvass Re-Inspection   \n",
       "2015-11-30       CHICAGO    IL  60641.0    Canvass Re-Inspection   \n",
       "2010-09-29       CHICAGO    IL  60611.0                  Canvass   \n",
       "\n",
       "                                                        Violations   Latitude  \\\n",
       "Inspection Date                                                                 \n",
       "2017-09-15       3. POTENTIALLY HAZARDOUS FOOD MEETS TEMPERATUR...  41.938007   \n",
       "2011-10-20       32. FOOD AND NON-FOOD CONTACT SURFACES PROPERL...  41.772402   \n",
       "2016-04-05       35. WALLS, CEILINGS, ATTACHED EQUIPMENT CONSTR...  41.758779   \n",
       "2016-04-29       38. VENTILATION: ROOMS AND EQUIPMENT VENTED AS...  41.812181   \n",
       "2011-01-10       34. FLOORS: CONSTRUCTED PER CODE, CLEANED, GOO...        NaN   \n",
       "...                                                            ...        ...   \n",
       "2013-10-29                                                     NaN  41.884188   \n",
       "2011-02-25                                                     NaN  41.809214   \n",
       "2018-05-14       33. FOOD AND NON-FOOD CONTACT EQUIPMENT UTENSI...  41.833045   \n",
       "2015-11-30                                                     NaN  41.936300   \n",
       "2010-09-29       33. FOOD AND NON-FOOD CONTACT EQUIPMENT UTENSI...  41.892671   \n",
       "\n",
       "                 Longitude                                           Location  \\\n",
       "Inspection Date                                                                 \n",
       "2017-09-15      -87.644755  {'longitude': '-87.6447545707008', 'latitude':...   \n",
       "2011-10-20      -87.683603  {'longitude': '-87.68360273081268', 'latitude'...   \n",
       "2016-04-05      -87.575054  {'longitude': '-87.57505446746121', 'latitude'...   \n",
       "2016-04-29      -87.707125  {'longitude': '-87.70712481334274', 'latitude'...   \n",
       "2011-01-10             NaN                                                NaN   \n",
       "...                    ...                                                ...   \n",
       "2013-10-29      -87.641120  {'longitude': '-87.64111966683218', 'latitude'...   \n",
       "2011-02-25      -87.620308  {'longitude': '-87.62030817634384', 'latitude'...   \n",
       "2018-05-14      -87.614611  {'longitude': '-87.61461136443168', 'latitude'...   \n",
       "2015-11-30      -87.756750  {'longitude': '-87.75674980489909', 'latitude'...   \n",
       "2010-09-29      -87.622572  {'longitude': '-87.62257220248128', 'latitude'...   \n",
       "\n",
       "                 Fail  Serious Violations Found  \n",
       "Inspection Date                                  \n",
       "2017-09-15          1                       2.0  \n",
       "2011-10-20          0                       0.0  \n",
       "2016-04-05          0                       0.0  \n",
       "2016-04-29          0                       0.0  \n",
       "2011-01-10          0                       0.0  \n",
       "...               ...                       ...  \n",
       "2013-10-29          0                       NaN  \n",
       "2011-02-25          0                       NaN  \n",
       "2018-05-14          0                       0.0  \n",
       "2015-11-30          0                       NaN  \n",
       "2010-09-29          0                       0.0  \n",
       "\n",
       "[51916 rows x 17 columns]"
      ]
     },
     "execution_count": 3,
     "metadata": {},
     "output_type": "execute_result"
    }
   ],
   "source": [
    "'''T1. Import data file.'''\n",
    "url = 'https://drive.google.com/uc?export=download&id=1aUnQ4AJK4UtW8JL9zPyYUMtkjIgQpqKT'\n",
    "df = pd.read_csv(url,parse_dates=['Inspection Date'])\n",
    "df.set_index('Inspection Date',inplace=True)\n",
    "print(df.shape)\n",
    "df"
   ]
  },
  {
   "cell_type": "markdown",
   "metadata": {
    "deletable": false,
    "editable": false,
    "id": "OZkQoa_Ohkhk",
    "nbgrader": {
     "cell_type": "markdown",
     "checksum": "493ede874f1e2c163a74021a41d8775d",
     "grade": false,
     "grade_id": "cell-1b2eb047117d89ab",
     "locked": true,
     "schema_version": 3,
     "solution": false,
     "task": false
    }
   },
   "source": [
    "**Task 1 Test**"
   ]
  },
  {
   "cell_type": "code",
   "execution_count": 4,
   "metadata": {
    "deletable": false,
    "editable": false,
    "id": "roUa2j0yhkhk",
    "nbgrader": {
     "cell_type": "code",
     "checksum": "0d68298cfa23877cd61b8ba487c19dc6",
     "grade": true,
     "grade_id": "cell-e9593d4f4ed7a9bb",
     "locked": true,
     "points": 1,
     "schema_version": 3,
     "solution": false,
     "task": false
    }
   },
   "outputs": [],
   "source": [
    "'''T1 Test'''\n",
    "assert isinstance(df, pd.DataFrame), 'Have you created a DataFrame named `df`?'\n",
    "assert len(df) == 51916"
   ]
  },
  {
   "cell_type": "markdown",
   "metadata": {
    "deletable": false,
    "editable": false,
    "id": "OKfhMIhfhkhl",
    "nbgrader": {
     "cell_type": "markdown",
     "checksum": "1ee62609b3bf18520406b3837f7843a6",
     "grade": false,
     "grade_id": "cell-9e90dce33ddd0506",
     "locked": true,
     "schema_version": 3,
     "solution": false,
     "task": false
    }
   },
   "source": [
    "**Task 2:** Given that this model is supposed to generate predictions *before* an inspection is conducted, identify the numerical feature that is an example of **data leakage.** Assign the column name to the variable `'leaky_col'`.\n",
    "\n",
    "**Remember:** Leakage is when your feature matrix includes columns that will not be available to your model at the time it make predictions.\n",
    "\n"
   ]
  },
  {
   "cell_type": "code",
   "execution_count": 5,
   "metadata": {
    "deletable": false,
    "id": "nZ6XzD0Ohkhl",
    "nbgrader": {
     "cell_type": "code",
     "checksum": "27b878765c52a092c3c56791dde91d5d",
     "grade": false,
     "grade_id": "cell-ef24afc9168ad64f",
     "locked": false,
     "schema_version": 3,
     "solution": true,
     "task": false
    }
   },
   "outputs": [],
   "source": [
    "'''T2. Identify data leakage column.'''\n",
    "leaky_col = 'Serious Violations Found'"
   ]
  },
  {
   "cell_type": "markdown",
   "metadata": {
    "deletable": false,
    "editable": false,
    "id": "i6rA-xpUhkhm",
    "nbgrader": {
     "cell_type": "markdown",
     "checksum": "9874ad6b513dd2c2e409aa1d6610a65e",
     "grade": false,
     "grade_id": "cell-378fd448d54e6fc0",
     "locked": true,
     "schema_version": 3,
     "solution": false,
     "task": false
    }
   },
   "source": [
    "**Task 2 Test**"
   ]
  },
  {
   "cell_type": "code",
   "execution_count": 6,
   "metadata": {
    "deletable": false,
    "editable": false,
    "id": "iyJTgxi7hkhn",
    "nbgrader": {
     "cell_type": "code",
     "checksum": "5a57c6a47e502a421524daf29beb7941",
     "grade": true,
     "grade_id": "cell-8429f30efb2a7bf7",
     "locked": true,
     "points": 1,
     "schema_version": 3,
     "solution": false,
     "task": false
    }
   },
   "outputs": [],
   "source": [
    "'''T2 Test'''\n",
    "# This is a hidden test. \n",
    "# You'll see the result when you submit to Canvas.\n",
    "assert isinstance(leaky_col, str), '`leaky_col` should be type `str`.'"
   ]
  },
  {
   "cell_type": "markdown",
   "metadata": {
    "deletable": false,
    "editable": false,
    "id": "LieEGJqchkhn",
    "nbgrader": {
     "cell_type": "markdown",
     "checksum": "b17eb5d6c465729f58b1739a11ea5b96",
     "grade": false,
     "grade_id": "cell-2f7298cea62c493e",
     "locked": true,
     "schema_version": 3,
     "solution": false,
     "task": false
    }
   },
   "source": [
    "**Task 3:** Add to the `wrangle` function below so that it does the following:\n",
    "\n",
    "- Removes the \"leaky\" column.\n",
    "- Removes high-cardinality categorical columns (more than `500` categories).\n",
    "- Removes categorical columns that have only one category.\n",
    "- Removes numerical columns that are unique identifiers for each observation, not features that would affect the target."
   ]
  },
  {
   "cell_type": "code",
   "execution_count": 7,
   "metadata": {
    "deletable": false,
    "id": "iAEuV0_ahkho",
    "nbgrader": {
     "cell_type": "code",
     "checksum": "40e1745bb407a170e1dec8221d37fc3c",
     "grade": false,
     "grade_id": "cell-d6fc5ee398afff4f",
     "locked": false,
     "schema_version": 3,
     "solution": true,
     "task": false
    }
   },
   "outputs": [],
   "source": [
    "'''T3. Write wrangle function.'''\n",
    "def objectify(string):\n",
    "  # converts float into string\n",
    "  i = str(string)\n",
    "  return i.split(\".\")[0]\n",
    "\n",
    "def wrangle(df):\n",
    "  df.drop(leaky_col,axis=1,inplace=True)\n",
    "  #drops leaky column\n",
    "\n",
    "  df['License #'] = df['License #'].apply(objectify)\n",
    "  df['Zip'] = df['Zip'].apply(objectify)\n",
    "  df['Inspection ID'] = df['Inspection ID'].apply(str)\n",
    "  # makes zip code and license number into categorical values, because they shouldnt be floats. This would make it so that license number (high cardinality) would be removed by the next part of this function\n",
    "  # and that zip code (low cardinality) would be put into the model to see if it has an effect on our model.\n",
    "  # shows inspection id as high cardinality object, removing it in the next part of this function\n",
    "\n",
    "  cardinality = df.select_dtypes('object').nunique()\n",
    "  categorical_col = cardinality[(cardinality<=500) & (cardinality>1)].index.tolist()\n",
    "  numerical_col = df.select_dtypes('number').columns.tolist()\n",
    "  features = categorical_col + numerical_col\n",
    "  #removes high cardinality features, and categorical features with only one category\n",
    "\n",
    "\n",
    "  return df[features]\n",
    "\n",
    "df = wrangle(df)"
   ]
  },
  {
   "cell_type": "markdown",
   "metadata": {
    "deletable": false,
    "editable": false,
    "id": "gFvEw33Phkho",
    "nbgrader": {
     "cell_type": "markdown",
     "checksum": "22afb4a381b73f41b02f83ca4a0102bd",
     "grade": false,
     "grade_id": "cell-7b5d539f39db8415",
     "locked": true,
     "schema_version": 3,
     "solution": false,
     "task": false
    }
   },
   "source": [
    "**Task 3 Test**"
   ]
  },
  {
   "cell_type": "code",
   "execution_count": 8,
   "metadata": {
    "deletable": false,
    "editable": false,
    "id": "cAUf847Rhkho",
    "nbgrader": {
     "cell_type": "code",
     "checksum": "05d5f964ad8d8bf468bd907abaa85213",
     "grade": true,
     "grade_id": "cell-49f495efb58bcd9f",
     "locked": true,
     "points": 1,
     "schema_version": 3,
     "solution": false,
     "task": false
    }
   },
   "outputs": [],
   "source": [
    "'''T3 Test'''\n",
    "assert df.select_dtypes('object').nunique().max() < 500, 'Have you dropped the high-cardinality columns?'\n",
    "assert df.select_dtypes('object').nunique().min() > 1, 'Have you dropped the column with only one category?'"
   ]
  },
  {
   "cell_type": "markdown",
   "metadata": {
    "deletable": false,
    "editable": false,
    "id": "D6FRzGlYhkho",
    "nbgrader": {
     "cell_type": "markdown",
     "checksum": "f93a157b989f3327402d7b93a31bb595",
     "grade": false,
     "grade_id": "cell-aea953fa5337fc1f",
     "locked": true,
     "schema_version": 3,
     "solution": false,
     "task": false
    }
   },
   "source": [
    "# II. Split Data\n",
    "\n",
    "**Task 4:** Split the DataFrame `df` into the feature matrix `X` and the target vector `y`. Your target is `'Fail'`."
   ]
  },
  {
   "cell_type": "code",
   "execution_count": 9,
   "metadata": {
    "deletable": false,
    "id": "70cam5m8hkhp",
    "nbgrader": {
     "cell_type": "code",
     "checksum": "7bfd4151db9dd6615a624da2954138e8",
     "grade": false,
     "grade_id": "cell-b21b1c40f5478337",
     "locked": false,
     "schema_version": 3,
     "solution": true,
     "task": false
    }
   },
   "outputs": [],
   "source": [
    "'''T4. Split feature matrix and target vector.'''\n",
    "target = 'Fail'\n",
    "y = df[target]\n",
    "xfeatures = df.drop(target,axis=1).columns\n",
    "X = df[xfeatures]"
   ]
  },
  {
   "cell_type": "markdown",
   "metadata": {
    "deletable": false,
    "editable": false,
    "id": "m-GOnEmxhkhp",
    "nbgrader": {
     "cell_type": "markdown",
     "checksum": "2f00ae85d10438328017da8b01b77354",
     "grade": false,
     "grade_id": "cell-d9a64e5a6bd2a37d",
     "locked": true,
     "schema_version": 3,
     "solution": false,
     "task": false
    }
   },
   "source": [
    "**Task 4 Test**"
   ]
  },
  {
   "cell_type": "code",
   "execution_count": 10,
   "metadata": {
    "deletable": false,
    "editable": false,
    "id": "TLysV3MBhkhq",
    "nbgrader": {
     "cell_type": "code",
     "checksum": "04db76e9023f0b61187af1e39513d377",
     "grade": true,
     "grade_id": "cell-a1d912e28c9f7522",
     "locked": true,
     "points": 1,
     "schema_version": 3,
     "solution": false,
     "task": false
    }
   },
   "outputs": [],
   "source": [
    "'''T4 Test'''\n",
    "assert y.shape == (51916,), '`y` either has the wrong number of rows, or is two-dimentional.'\n",
    "assert len(X) == 51916, '`X` has the wrong number of rows.'"
   ]
  },
  {
   "cell_type": "markdown",
   "metadata": {
    "deletable": false,
    "editable": false,
    "id": "0pKPdEGfhkhq",
    "nbgrader": {
     "cell_type": "markdown",
     "checksum": "e719471298c6c418489a657a500b7d0e",
     "grade": false,
     "grade_id": "cell-b575fbda93b87f6a",
     "locked": true,
     "schema_version": 3,
     "solution": false,
     "task": false
    }
   },
   "source": [
    "**Task 5:** Split your dataset into training and validation sets.\n",
    "\n",
    "- Your training set (`X_train`, `y_train`) should contain inspections conducted before 2017.\n",
    "- Your validation set (`X_val`, `y_val`) should contain inspections conducted during or after 2017."
   ]
  },
  {
   "cell_type": "code",
   "execution_count": 11,
   "metadata": {
    "colab": {
     "base_uri": "https://localhost:8080/",
     "height": 455
    },
    "deletable": false,
    "id": "AcrmPTJ5hkhq",
    "nbgrader": {
     "cell_type": "code",
     "checksum": "f92b2b9f9460a17c987c23188e3c31b1",
     "grade": false,
     "grade_id": "cell-0bb47689fd4667ed",
     "locked": false,
     "schema_version": 3,
     "solution": true,
     "task": false
    },
    "outputId": "d54aed73-9bca-47fb-e09e-a5ea21343d29"
   },
   "outputs": [
    {
     "data": {
      "text/html": [
       "<div>\n",
       "<style scoped>\n",
       "    .dataframe tbody tr th:only-of-type {\n",
       "        vertical-align: middle;\n",
       "    }\n",
       "\n",
       "    .dataframe tbody tr th {\n",
       "        vertical-align: top;\n",
       "    }\n",
       "\n",
       "    .dataframe thead th {\n",
       "        text-align: right;\n",
       "    }\n",
       "</style>\n",
       "<table border=\"1\" class=\"dataframe\">\n",
       "  <thead>\n",
       "    <tr style=\"text-align: right;\">\n",
       "      <th></th>\n",
       "      <th>Facility Type</th>\n",
       "      <th>Risk</th>\n",
       "      <th>City</th>\n",
       "      <th>Zip</th>\n",
       "      <th>Inspection Type</th>\n",
       "      <th>Latitude</th>\n",
       "      <th>Longitude</th>\n",
       "    </tr>\n",
       "    <tr>\n",
       "      <th>Inspection Date</th>\n",
       "      <th></th>\n",
       "      <th></th>\n",
       "      <th></th>\n",
       "      <th></th>\n",
       "      <th></th>\n",
       "      <th></th>\n",
       "      <th></th>\n",
       "    </tr>\n",
       "  </thead>\n",
       "  <tbody>\n",
       "    <tr>\n",
       "      <th>2017-09-15</th>\n",
       "      <td>Restaurant</td>\n",
       "      <td>Risk 1 (High)</td>\n",
       "      <td>CHICAGO</td>\n",
       "      <td>60657</td>\n",
       "      <td>Canvass</td>\n",
       "      <td>41.938007</td>\n",
       "      <td>-87.644755</td>\n",
       "    </tr>\n",
       "    <tr>\n",
       "      <th>2017-01-12</th>\n",
       "      <td>Restaurant</td>\n",
       "      <td>Risk 2 (Medium)</td>\n",
       "      <td>CHICAGO</td>\n",
       "      <td>60606</td>\n",
       "      <td>Canvass</td>\n",
       "      <td>41.878531</td>\n",
       "      <td>-87.639427</td>\n",
       "    </tr>\n",
       "    <tr>\n",
       "      <th>2017-02-10</th>\n",
       "      <td>School</td>\n",
       "      <td>Risk 1 (High)</td>\n",
       "      <td>CHICAGO</td>\n",
       "      <td>60638</td>\n",
       "      <td>Canvass Re-Inspection</td>\n",
       "      <td>41.799052</td>\n",
       "      <td>-87.758965</td>\n",
       "    </tr>\n",
       "    <tr>\n",
       "      <th>2017-08-01</th>\n",
       "      <td>Liquor</td>\n",
       "      <td>Risk 3 (Low)</td>\n",
       "      <td>CHICAGO</td>\n",
       "      <td>60610</td>\n",
       "      <td>License</td>\n",
       "      <td>41.902312</td>\n",
       "      <td>-87.628497</td>\n",
       "    </tr>\n",
       "    <tr>\n",
       "      <th>2018-10-31</th>\n",
       "      <td>Restaurant</td>\n",
       "      <td>Risk 1 (High)</td>\n",
       "      <td>CHICAGO</td>\n",
       "      <td>60614</td>\n",
       "      <td>Complaint</td>\n",
       "      <td>41.932864</td>\n",
       "      <td>-87.647246</td>\n",
       "    </tr>\n",
       "    <tr>\n",
       "      <th>...</th>\n",
       "      <td>...</td>\n",
       "      <td>...</td>\n",
       "      <td>...</td>\n",
       "      <td>...</td>\n",
       "      <td>...</td>\n",
       "      <td>...</td>\n",
       "      <td>...</td>\n",
       "    </tr>\n",
       "    <tr>\n",
       "      <th>2017-08-25</th>\n",
       "      <td>Restaurant</td>\n",
       "      <td>Risk 1 (High)</td>\n",
       "      <td>CHICAGO</td>\n",
       "      <td>60640</td>\n",
       "      <td>Canvass</td>\n",
       "      <td>41.973167</td>\n",
       "      <td>-87.657438</td>\n",
       "    </tr>\n",
       "    <tr>\n",
       "      <th>2017-07-17</th>\n",
       "      <td>Restaurant</td>\n",
       "      <td>Risk 2 (Medium)</td>\n",
       "      <td>CHICAGO</td>\n",
       "      <td>60610</td>\n",
       "      <td>License</td>\n",
       "      <td>41.908246</td>\n",
       "      <td>-87.634474</td>\n",
       "    </tr>\n",
       "    <tr>\n",
       "      <th>2018-01-09</th>\n",
       "      <td>Restaurant</td>\n",
       "      <td>Risk 1 (High)</td>\n",
       "      <td>CHICAGO</td>\n",
       "      <td>60623</td>\n",
       "      <td>License Re-Inspection</td>\n",
       "      <td>41.844550</td>\n",
       "      <td>-87.710615</td>\n",
       "    </tr>\n",
       "    <tr>\n",
       "      <th>2017-11-09</th>\n",
       "      <td>Restaurant</td>\n",
       "      <td>Risk 1 (High)</td>\n",
       "      <td>CHICAGO</td>\n",
       "      <td>60612</td>\n",
       "      <td>License Re-Inspection</td>\n",
       "      <td>41.877432</td>\n",
       "      <td>-87.671768</td>\n",
       "    </tr>\n",
       "    <tr>\n",
       "      <th>2018-05-14</th>\n",
       "      <td>Grocery Store</td>\n",
       "      <td>Risk 1 (High)</td>\n",
       "      <td>CHICAGO</td>\n",
       "      <td>60616</td>\n",
       "      <td>Canvass Re-Inspection</td>\n",
       "      <td>41.833045</td>\n",
       "      <td>-87.614611</td>\n",
       "    </tr>\n",
       "  </tbody>\n",
       "</table>\n",
       "<p>10089 rows × 7 columns</p>\n",
       "</div>"
      ],
      "text/plain": [
       "                 Facility Type             Risk     City    Zip  \\\n",
       "Inspection Date                                                   \n",
       "2017-09-15          Restaurant    Risk 1 (High)  CHICAGO  60657   \n",
       "2017-01-12          Restaurant  Risk 2 (Medium)  CHICAGO  60606   \n",
       "2017-02-10              School    Risk 1 (High)  CHICAGO  60638   \n",
       "2017-08-01              Liquor     Risk 3 (Low)  CHICAGO  60610   \n",
       "2018-10-31          Restaurant    Risk 1 (High)  CHICAGO  60614   \n",
       "...                        ...              ...      ...    ...   \n",
       "2017-08-25          Restaurant    Risk 1 (High)  CHICAGO  60640   \n",
       "2017-07-17          Restaurant  Risk 2 (Medium)  CHICAGO  60610   \n",
       "2018-01-09          Restaurant    Risk 1 (High)  CHICAGO  60623   \n",
       "2017-11-09          Restaurant    Risk 1 (High)  CHICAGO  60612   \n",
       "2018-05-14       Grocery Store    Risk 1 (High)  CHICAGO  60616   \n",
       "\n",
       "                       Inspection Type   Latitude  Longitude  \n",
       "Inspection Date                                               \n",
       "2017-09-15                     Canvass  41.938007 -87.644755  \n",
       "2017-01-12                     Canvass  41.878531 -87.639427  \n",
       "2017-02-10       Canvass Re-Inspection  41.799052 -87.758965  \n",
       "2017-08-01                     License  41.902312 -87.628497  \n",
       "2018-10-31                   Complaint  41.932864 -87.647246  \n",
       "...                                ...        ...        ...  \n",
       "2017-08-25                     Canvass  41.973167 -87.657438  \n",
       "2017-07-17                     License  41.908246 -87.634474  \n",
       "2018-01-09       License Re-Inspection  41.844550 -87.710615  \n",
       "2017-11-09       License Re-Inspection  41.877432 -87.671768  \n",
       "2018-05-14       Canvass Re-Inspection  41.833045 -87.614611  \n",
       "\n",
       "[10089 rows x 7 columns]"
      ]
     },
     "execution_count": 11,
     "metadata": {},
     "output_type": "execute_result"
    }
   ],
   "source": [
    "'''T5. Split dataset into training and validation sets.'''\n",
    "cutoff = '2017-01-01'\n",
    "mask = X.index < cutoff\n",
    "X_train, y_train = X.loc[mask], y.loc[mask]\n",
    "X_val, y_val = X.loc[~mask], y.loc[~mask]\n",
    "X_val"
   ]
  },
  {
   "cell_type": "markdown",
   "metadata": {
    "deletable": false,
    "editable": false,
    "id": "-ZgIMj5ihkhr",
    "nbgrader": {
     "cell_type": "markdown",
     "checksum": "60e77b85e7db0d0cb2522b8caa399e77",
     "grade": false,
     "grade_id": "cell-8517b2d477256843",
     "locked": true,
     "schema_version": 3,
     "solution": false,
     "task": false
    }
   },
   "source": [
    "**Task 5 Testing**"
   ]
  },
  {
   "cell_type": "code",
   "execution_count": 12,
   "metadata": {
    "deletable": false,
    "editable": false,
    "id": "lN5xsMaNhkhs",
    "nbgrader": {
     "cell_type": "code",
     "checksum": "56e9e6ef918d3a662decf3f6d67dfd01",
     "grade": true,
     "grade_id": "cell-52cf3ef1934a4278",
     "locked": true,
     "points": 1,
     "schema_version": 3,
     "solution": false,
     "task": false
    }
   },
   "outputs": [],
   "source": [
    "'''T5 Test'''\n",
    "assert len(X_train) == len(y_train) == 41827, 'Your training set has the wrong number of observations.'\n",
    "assert len(X_val) == len(y_val) == 10089, 'Your validation set has the wrong number of observations.'"
   ]
  },
  {
   "cell_type": "markdown",
   "metadata": {
    "deletable": false,
    "editable": false,
    "id": "BlMHgj7mhkhs",
    "nbgrader": {
     "cell_type": "markdown",
     "checksum": "0641d242faca29af591ebea98bc88ed6",
     "grade": false,
     "grade_id": "cell-2e9a4c74f50ed0fc",
     "locked": true,
     "schema_version": 3,
     "solution": false,
     "task": false
    }
   },
   "source": [
    "# III. Establish Baseline\n",
    "\n",
    "**Task 6:** Establish the baseline accuracy score for this classification problem using your training set. Save the score to the variable `baseline_acc`."
   ]
  },
  {
   "cell_type": "code",
   "execution_count": 13,
   "metadata": {
    "colab": {
     "base_uri": "https://localhost:8080/"
    },
    "deletable": false,
    "id": "LwrOqMGJhkhs",
    "nbgrader": {
     "cell_type": "code",
     "checksum": "b658c6901efe4fe564387be697265352",
     "grade": false,
     "grade_id": "cell-3d21cc97649be107",
     "locked": false,
     "schema_version": 3,
     "solution": true,
     "task": false
    },
    "outputId": "60fb8648-39b5-43a7-d5d0-3e315ade2c10"
   },
   "outputs": [
    {
     "name": "stdout",
     "output_type": "stream",
     "text": [
      "Baseline accuracy: 0.7506634470557295\n"
     ]
    }
   ],
   "source": [
    "'''T6. Establish baseline accuracy.'''\n",
    "baseline_acc = y_train.value_counts(normalize=True)[0]\n",
    "print('Baseline accuracy:', baseline_acc)"
   ]
  },
  {
   "cell_type": "markdown",
   "metadata": {
    "deletable": false,
    "editable": false,
    "id": "eFxfTZ8whkhs",
    "nbgrader": {
     "cell_type": "markdown",
     "checksum": "6098c9452685d029c07b96f5295b5c1d",
     "grade": false,
     "grade_id": "cell-56d5801c8831c15b",
     "locked": true,
     "schema_version": 3,
     "solution": false,
     "task": false
    }
   },
   "source": [
    "**Task 6 Testing**"
   ]
  },
  {
   "cell_type": "code",
   "execution_count": 14,
   "metadata": {
    "deletable": false,
    "editable": false,
    "id": "cR-jq4aGhkhs",
    "nbgrader": {
     "cell_type": "code",
     "checksum": "8527a8f2e79c09d69519059e56c54272",
     "grade": true,
     "grade_id": "cell-abdc4cbe95e9d1da",
     "locked": true,
     "points": 1,
     "schema_version": 3,
     "solution": false,
     "task": false
    }
   },
   "outputs": [],
   "source": [
    "'''T6 Test'''\n",
    "assert isinstance(baseline_acc, float), '`baseline_acc` should be type float. Have you defined the variable?'\n",
    "assert 0.0 <= baseline_acc <= 1.0"
   ]
  },
  {
   "cell_type": "markdown",
   "metadata": {
    "deletable": false,
    "editable": false,
    "id": "uqRVPM1thkht",
    "nbgrader": {
     "cell_type": "markdown",
     "checksum": "8a0f7eab56c05e92a441333652ccf6cf",
     "grade": false,
     "grade_id": "cell-7d68939c4eced62c",
     "locked": true,
     "schema_version": 3,
     "solution": false,
     "task": false
    }
   },
   "source": [
    "# IV. Build Model\n",
    "\n",
    "In this section, you want to answer the question: Which ensemble method performs better with this data — bagging or boosting?\n",
    "\n",
    "**Task 7:** Build a model that includes a bagging predictor (`RandomForest`). Your predictor should be part of a pipeline named `model_bag` that includes any transformers that you think are necessary."
   ]
  },
  {
   "cell_type": "code",
   "execution_count": 15,
   "metadata": {
    "deletable": false,
    "id": "DkSX6VXkhkht",
    "nbgrader": {
     "cell_type": "code",
     "checksum": "49a48b340c0ee7f9630c3ce57e4ca439",
     "grade": false,
     "grade_id": "cell-889285d53fdbe282",
     "locked": false,
     "schema_version": 3,
     "solution": true,
     "task": false
    }
   },
   "outputs": [],
   "source": [
    "'''T7. Build model with bagging predictor.'''\n",
    "import category_encoders as ce\n",
    "from sklearn.impute import SimpleImputer\n",
    "from sklearn.ensemble import RandomForestClassifier, GradientBoostingClassifier\n",
    "from sklearn.pipeline import make_pipeline\n",
    "\n",
    "model_bag = make_pipeline(\n",
    "    ce.OrdinalEncoder(),\n",
    "    SimpleImputer(strategy='most_frequent'),\n",
    "    RandomForestClassifier(random_state=42)\n",
    ")\n",
    "model_bag.fit(X_train, y_train);"
   ]
  },
  {
   "cell_type": "markdown",
   "metadata": {
    "deletable": false,
    "editable": false,
    "id": "8KMGnWD3hkht",
    "nbgrader": {
     "cell_type": "markdown",
     "checksum": "81055fe5d87448fd8e4aff2ca4f10ea0",
     "grade": false,
     "grade_id": "cell-72dac6ede9a13038",
     "locked": true,
     "schema_version": 3,
     "solution": false,
     "task": false
    }
   },
   "source": [
    "**Tast 7 Testing**"
   ]
  },
  {
   "cell_type": "code",
   "execution_count": 16,
   "metadata": {
    "deletable": false,
    "editable": false,
    "id": "pvulyZ08hkht",
    "nbgrader": {
     "cell_type": "code",
     "checksum": "57725e1ca8a837d8fa761271f994ad44",
     "grade": true,
     "grade_id": "cell-cddc5d7d2170877b",
     "locked": true,
     "points": 1,
     "schema_version": 3,
     "solution": false,
     "task": false
    }
   },
   "outputs": [],
   "source": [
    "'''T7 Testing'''\n",
    "from sklearn.pipeline import Pipeline\n",
    "from sklearn.ensemble import RandomForestClassifier\n",
    "assert isinstance(model_bag, Pipeline), '`model_bag` is the wrong data type. Have you assigned your pipeline to the correct variable name?'\n",
    "assert isinstance(model_bag[-1], RandomForestClassifier), 'Your predictor should be a `RandomForestClassifier`.'\n",
    "assert hasattr(model_bag[-1], 'feature_importances_'), 'Have you trained your model?'"
   ]
  },
  {
   "cell_type": "markdown",
   "metadata": {
    "deletable": false,
    "editable": false,
    "id": "JGBgn8Sohkht",
    "nbgrader": {
     "cell_type": "markdown",
     "checksum": "5e3c031075213c671f8f9b321585e9eb",
     "grade": false,
     "grade_id": "cell-d9750931390fe58f",
     "locked": true,
     "schema_version": 3,
     "solution": false,
     "task": false
    }
   },
   "source": [
    "**Task 8:** Build a model that includes a boosting predictor (`GradientBoostingClassifier` from `sklearn` or `XGBClassifier` from `xgboost`). Your predictor should be part of a pipeline named `model_boost` that includes any transformers that you think are necessary. "
   ]
  },
  {
   "cell_type": "code",
   "execution_count": 17,
   "metadata": {
    "deletable": false,
    "id": "SrYdmKubhkhu",
    "nbgrader": {
     "cell_type": "code",
     "checksum": "a30d11fa6b0d4e143f4572b0baf65afb",
     "grade": false,
     "grade_id": "cell-37f16b5811ae5223",
     "locked": false,
     "schema_version": 3,
     "solution": true,
     "task": false
    }
   },
   "outputs": [],
   "source": [
    "'''T8. Build model with boosting predictor.'''\n",
    "model_boost = make_pipeline(\n",
    "    ce.OrdinalEncoder(),\n",
    "    SimpleImputer(strategy='most_frequent'),\n",
    "    GradientBoostingClassifier(random_state=42)\n",
    ")\n",
    "model_boost.fit(X_train, y_train);"
   ]
  },
  {
   "cell_type": "markdown",
   "metadata": {
    "deletable": false,
    "editable": false,
    "id": "peeassqkhkhu",
    "nbgrader": {
     "cell_type": "markdown",
     "checksum": "64d1c2ff5004fe02082dc204299e0e70",
     "grade": false,
     "grade_id": "cell-3699731f62fa5db3",
     "locked": true,
     "schema_version": 3,
     "solution": false,
     "task": false
    }
   },
   "source": [
    "**Task 8 Testing**"
   ]
  },
  {
   "cell_type": "code",
   "execution_count": 18,
   "metadata": {
    "deletable": false,
    "editable": false,
    "id": "Tw4ods79hkhu",
    "nbgrader": {
     "cell_type": "code",
     "checksum": "35744289b60d1556e064bc09da544566",
     "grade": true,
     "grade_id": "cell-90deb42a1c052402",
     "locked": true,
     "points": 1,
     "schema_version": 3,
     "solution": false,
     "task": false
    }
   },
   "outputs": [],
   "source": [
    "'''T8 Testing'''\n",
    "from xgboost import XGBClassifier\n",
    "from sklearn.ensemble import GradientBoostingClassifier\n",
    "assert isinstance(model_boost, Pipeline), '`model_boost` is the wrong data type. Have you assigned your pipeline to the correct variable name?'\n",
    "assert any([isinstance(model_boost[-1], XGBClassifier),\n",
    "            isinstance(model_boost[-1], GradientBoostingClassifier)]), 'Your predictor should be `XGBClassifier` or `GradientBoostingClassifier`.'"
   ]
  },
  {
   "cell_type": "markdown",
   "metadata": {
    "deletable": false,
    "editable": false,
    "id": "QiG8Vl5Ehkhu",
    "nbgrader": {
     "cell_type": "markdown",
     "checksum": "ebed19854d947c07608d2cb6c356f7ec",
     "grade": false,
     "grade_id": "cell-dc041ac00c805cff",
     "locked": true,
     "schema_version": 3,
     "solution": false,
     "task": false
    }
   },
   "source": [
    "# V. Check Metrics\n",
    "\n",
    "Here are the accuracy scores for your two models. Did you beat the baseline? Which of your two models appears to perform better on your validation set?"
   ]
  },
  {
   "cell_type": "code",
   "execution_count": 19,
   "metadata": {
    "colab": {
     "base_uri": "https://localhost:8080/"
    },
    "deletable": false,
    "editable": false,
    "id": "k-jab-bvhkhv",
    "nbgrader": {
     "cell_type": "code",
     "checksum": "fc12491c98afa1dd0767422ce0a07b22",
     "grade": false,
     "grade_id": "cell-c0206a761fccab6c",
     "locked": true,
     "schema_version": 3,
     "solution": false,
     "task": false
    },
    "outputId": "2ec71543-0405-4eec-9c14-51853641a1cc"
   },
   "outputs": [
    {
     "name": "stdout",
     "output_type": "stream",
     "text": [
      "Bagging Model\n",
      "Training accuracy: 0.9077390202500777\n",
      "Validation accuracy: 0.68004757656854\n",
      "\n",
      "Boosting Model\n",
      "Training accuracy: 0.7562101035216487\n",
      "Validation accuracy: 0.703439389434037\n"
     ]
    }
   ],
   "source": [
    "print('Bagging Model')\n",
    "print('Training accuracy:', model_bag.score(X_train, y_train))\n",
    "print('Validation accuracy:', model_bag.score(X_val, y_val))\n",
    "print()\n",
    "print('Boosting Model')\n",
    "print('Training accuracy:', model_boost.score(X_train, y_train))\n",
    "print('Validation accuracy:', model_boost.score(X_val, y_val))"
   ]
  },
  {
   "cell_type": "markdown",
   "metadata": {
    "deletable": false,
    "editable": false,
    "id": "TCCrtXf4hkhv",
    "nbgrader": {
     "cell_type": "markdown",
     "checksum": "044f92b1e1321a290f39d2a3d4f756ed",
     "grade": false,
     "grade_id": "cell-17e8e5433e896bc5",
     "locked": true,
     "schema_version": 3,
     "solution": false,
     "task": false
    }
   },
   "source": [
    "**Task 9 (`stretch_goal`):** Plot the ROC-curve for both of your models (you can plot them one-at-a-time, side-by-side, or in the same plot)."
   ]
  },
  {
   "cell_type": "code",
   "execution_count": 20,
   "metadata": {
    "id": "RE0otXGpId7a"
   },
   "outputs": [],
   "source": [
    "bag_y_pred_proba = model_bag.predict_proba(X_val)[:,1]\n",
    "boost_y_pred_proba = model_boost.predict_proba(X_val)[:,1]"
   ]
  },
  {
   "cell_type": "code",
   "execution_count": 21,
   "metadata": {
    "colab": {
     "base_uri": "https://localhost:8080/",
     "height": 313
    },
    "deletable": false,
    "id": "ARYHvjXDhkhv",
    "nbgrader": {
     "cell_type": "code",
     "checksum": "e4a418ccf53481f58016cf1828e973da",
     "grade": false,
     "grade_id": "cell-769e4a780bb22283",
     "locked": false,
     "schema_version": 3,
     "solution": true,
     "task": false
    },
    "outputId": "424b8d93-b4ec-4129-8fe9-3c088a6686bf"
   },
   "outputs": [
    {
     "data": {
      "text/plain": [
       "Text(0, 0.5, 'True Positive Rate')"
      ]
     },
     "execution_count": 21,
     "metadata": {},
     "output_type": "execute_result"
    },
    {
     "data": {
      "image/png": "[encoded data removed]",
      "text/plain": [
       "<Figure size 432x288 with 1 Axes>"
      ]
     },
     "metadata": {
      "needs_background": "light"
     },
     "output_type": "display_data"
    }
   ],
   "source": [
    "'''T9. Plot ROC-curve.'''\n",
    "from sklearn.metrics import roc_curve\n",
    "\n",
    "fpr_bag, tpr_bag, bag_thresh = roc_curve(y_val,bag_y_pred_proba)\n",
    "fpr_boost, tpr_boost, boost_thresh = roc_curve(y_val,boost_y_pred_proba)\n",
    "\n",
    "plt.scatter(fpr_bag,tpr_bag)\n",
    "plt.title('Bagging ROC Curve')\n",
    "plt.xlabel('False Positive Rate')\n",
    "plt.ylabel('True Positive Rate')"
   ]
  },
  {
   "cell_type": "code",
   "execution_count": 22,
   "metadata": {
    "colab": {
     "base_uri": "https://localhost:8080/",
     "height": 313
    },
    "id": "wBKDRRFsKk8C",
    "outputId": "9f46c10d-856c-46ce-8feb-0d3713eb694a"
   },
   "outputs": [
    {
     "data": {
      "text/plain": [
       "Text(0, 0.5, 'True Positive Rate')"
      ]
     },
     "execution_count": 22,
     "metadata": {},
     "output_type": "execute_result"
    },
    {
     "data": {
      "image/png": "[encoded data removed]",
      "text/plain": [
       "<Figure size 432x288 with 1 Axes>"
      ]
     },
     "metadata": {
      "needs_background": "light"
     },
     "output_type": "display_data"
    }
   ],
   "source": [
    "plt.scatter(fpr_boost,tpr_boost)\n",
    "plt.title('Boosting ROC Curve')\n",
    "plt.xlabel('False Positive Rate')\n",
    "plt.ylabel('True Positive Rate')"
   ]
  },
  {
   "cell_type": "markdown",
   "metadata": {
    "deletable": false,
    "editable": false,
    "id": "NHjv4JIuhkhv",
    "nbgrader": {
     "cell_type": "markdown",
     "checksum": "c2a7559346e95bf6ecd31e90dcefd3be",
     "grade": false,
     "grade_id": "cell-1b8571c3a6a034f5",
     "locked": true,
     "schema_version": 3,
     "solution": false,
     "task": false
    }
   },
   "source": [
    "**Task 10:** Choose one of your models based on your validation accuracy score or your ROC curves. Then create a classification report for that model using your validation data. Save the text of the report to the variable name `model_cr`. "
   ]
  },
  {
   "cell_type": "code",
   "execution_count": 23,
   "metadata": {
    "colab": {
     "base_uri": "https://localhost:8080/"
    },
    "deletable": false,
    "id": "xlpZ8P_yhkhw",
    "nbgrader": {
     "cell_type": "code",
     "checksum": "2ef340cbc8ec53da648b929c0bab96ef",
     "grade": false,
     "grade_id": "cell-49891c4ce9bf5f37",
     "locked": false,
     "schema_version": 3,
     "solution": true,
     "task": false
    },
    "outputId": "2df792af-c4b7-40a6-a9d5-7a659b647299"
   },
   "outputs": [
    {
     "name": "stdout",
     "output_type": "stream",
     "text": [
      "                   precision    recall  f1-score   support\n",
      "\n",
      "     did not fail       0.71      0.99      0.82      7092\n",
      "failed inspection       0.52      0.03      0.05      2997\n",
      "\n",
      "         accuracy                           0.70     10089\n",
      "        macro avg       0.61      0.51      0.44     10089\n",
      "     weighted avg       0.65      0.70      0.59     10089\n",
      "\n"
     ]
    }
   ],
   "source": [
    "'''T10. Generate classification report for one model.'''\n",
    "from sklearn.metrics import classification_report\n",
    "model_cr = classification_report(y_val, model_boost.predict(X_val),\n",
    "                                 target_names = ['did not fail' , 'failed inspection'])\n",
    "print(model_cr)"
   ]
  },
  {
   "cell_type": "markdown",
   "metadata": {
    "deletable": false,
    "editable": false,
    "id": "weMhuHC6hkhw",
    "nbgrader": {
     "cell_type": "markdown",
     "checksum": "103296abc9f51aa4b883c35c418275cc",
     "grade": false,
     "grade_id": "cell-7b5374efd0e40c69",
     "locked": true,
     "schema_version": 3,
     "solution": false,
     "task": false
    }
   },
   "source": [
    "**Task 10 Testing**"
   ]
  },
  {
   "cell_type": "code",
   "execution_count": 24,
   "metadata": {
    "deletable": false,
    "editable": false,
    "id": "4S_PQsvihkhw",
    "nbgrader": {
     "cell_type": "code",
     "checksum": "110853de9aaaba37cb2fe601091b1e7d",
     "grade": true,
     "grade_id": "cell-94e04c938f3f5f84",
     "locked": true,
     "points": 1,
     "schema_version": 3,
     "solution": false,
     "task": false
    }
   },
   "outputs": [],
   "source": [
    "assert isinstance(model_cr, str), '`model_cr` should be type `str`.'\n",
    "assert all(term in model_cr for term in ['precision', 'recall', 'f1-score', 'support']), 'Is this a classification report?'"
   ]
  },
  {
   "cell_type": "markdown",
   "metadata": {
    "deletable": false,
    "editable": false,
    "id": "5ZgbPFiohkhw",
    "nbgrader": {
     "cell_type": "markdown",
     "checksum": "00449a4317e9b4d383f2ca7d58a2b0af",
     "grade": false,
     "grade_id": "cell-d2b4843352d3085a",
     "locked": true,
     "schema_version": 3,
     "solution": false,
     "task": false
    }
   },
   "source": [
    "**Task 11:** Using your best model, create a DataFrame `permutation_importances` with the model's permutation importances based on your validation data.\n",
    "\n",
    "- The index of the DataFrame should be your feature names.\n",
    "- The first column should be the mean importance.\n",
    "- The second column should be the importance standard deviation."
   ]
  },
  {
   "cell_type": "code",
   "execution_count": 25,
   "metadata": {
    "colab": {
     "base_uri": "https://localhost:8080/",
     "height": 269
    },
    "deletable": false,
    "id": "sxI9FkzEhkhw",
    "nbgrader": {
     "cell_type": "code",
     "checksum": "f8e984b2a5083b74b7eb0abec46f8d63",
     "grade": false,
     "grade_id": "cell-72936eec6980072b",
     "locked": false,
     "schema_version": 3,
     "solution": true,
     "task": false
    },
    "outputId": "e1d4d9f3-859f-4e6e-d69a-ddbecd49ab2c"
   },
   "outputs": [
    {
     "data": {
      "text/html": [
       "<div>\n",
       "<style scoped>\n",
       "    .dataframe tbody tr th:only-of-type {\n",
       "        vertical-align: middle;\n",
       "    }\n",
       "\n",
       "    .dataframe tbody tr th {\n",
       "        vertical-align: top;\n",
       "    }\n",
       "\n",
       "    .dataframe thead th {\n",
       "        text-align: right;\n",
       "    }\n",
       "</style>\n",
       "<table border=\"1\" class=\"dataframe\">\n",
       "  <thead>\n",
       "    <tr style=\"text-align: right;\">\n",
       "      <th></th>\n",
       "      <th>mean_importance</th>\n",
       "      <th>std_importance</th>\n",
       "    </tr>\n",
       "  </thead>\n",
       "  <tbody>\n",
       "    <tr>\n",
       "      <th>Facility Type</th>\n",
       "      <td>-7.334721e-04</td>\n",
       "      <td>0.000231</td>\n",
       "    </tr>\n",
       "    <tr>\n",
       "      <th>Risk</th>\n",
       "      <td>-5.947071e-04</td>\n",
       "      <td>0.000208</td>\n",
       "    </tr>\n",
       "    <tr>\n",
       "      <th>City</th>\n",
       "      <td>-1.784121e-04</td>\n",
       "      <td>0.000040</td>\n",
       "    </tr>\n",
       "    <tr>\n",
       "      <th>Zip</th>\n",
       "      <td>1.189414e-04</td>\n",
       "      <td>0.000537</td>\n",
       "    </tr>\n",
       "    <tr>\n",
       "      <th>Inspection Type</th>\n",
       "      <td>2.973536e-03</td>\n",
       "      <td>0.000822</td>\n",
       "    </tr>\n",
       "    <tr>\n",
       "      <th>Latitude</th>\n",
       "      <td>1.466944e-03</td>\n",
       "      <td>0.001358</td>\n",
       "    </tr>\n",
       "    <tr>\n",
       "      <th>Longitude</th>\n",
       "      <td>-4.440892e-17</td>\n",
       "      <td>0.000198</td>\n",
       "    </tr>\n",
       "  </tbody>\n",
       "</table>\n",
       "</div>"
      ],
      "text/plain": [
       "                 mean_importance  std_importance\n",
       "Facility Type      -7.334721e-04        0.000231\n",
       "Risk               -5.947071e-04        0.000208\n",
       "City               -1.784121e-04        0.000040\n",
       "Zip                 1.189414e-04        0.000537\n",
       "Inspection Type     2.973536e-03        0.000822\n",
       "Latitude            1.466944e-03        0.001358\n",
       "Longitude          -4.440892e-17        0.000198"
      ]
     },
     "execution_count": 25,
     "metadata": {},
     "output_type": "execute_result"
    }
   ],
   "source": [
    "'''T11. Create DataFrame of permutation importances.'''\n",
    "from sklearn.inspection import permutation_importance\n",
    "model_boost_perm_imp = permutation_importance(model_boost,X_val,y_val,n_jobs=-1,random_state=42)\n",
    "boost_perm_imp = {'mean_importance' : model_boost_perm_imp['importances_mean'],\n",
    "                  'std_importance': model_boost_perm_imp['importances_std']}\n",
    "permutation_importances = pd.DataFrame(boost_perm_imp,index=X_val.columns)\n",
    "permutation_importances"
   ]
  },
  {
   "cell_type": "markdown",
   "metadata": {
    "deletable": false,
    "editable": false,
    "id": "0-DmO0sXhkhx",
    "nbgrader": {
     "cell_type": "markdown",
     "checksum": "dccb1015d0f5c2f8b23f780eb8e4abf7",
     "grade": false,
     "grade_id": "cell-9eb949d189e401bc",
     "locked": true,
     "schema_version": 3,
     "solution": false,
     "task": false
    }
   },
   "source": [
    "**Task 11 Testing**"
   ]
  },
  {
   "cell_type": "code",
   "execution_count": 26,
   "metadata": {
    "deletable": false,
    "editable": false,
    "id": "HYJnM-QQhkhx",
    "nbgrader": {
     "cell_type": "code",
     "checksum": "d84e55cd6e77a52c576972ab68477c90",
     "grade": true,
     "grade_id": "cell-a4d8990e7070c2dd",
     "locked": true,
     "points": 1,
     "schema_version": 3,
     "solution": false,
     "task": false
    }
   },
   "outputs": [],
   "source": [
    "'''Task 11 Test'''\n",
    "assert isinstance(permutation_importances, pd.DataFrame), '`permutation_importances` should be type `DataFrame`.'\n",
    "assert permutation_importances.shape == (7,2)"
   ]
  },
  {
   "cell_type": "markdown",
   "metadata": {
    "deletable": false,
    "editable": false,
    "id": "_d9WWbPxhkhx",
    "nbgrader": {
     "cell_type": "markdown",
     "checksum": "f005618a5eb29cde9fbc73ab717b0e1c",
     "grade": false,
     "grade_id": "cell-3d8938c1715a596d",
     "locked": true,
     "schema_version": 3,
     "solution": false,
     "task": false
    }
   },
   "source": [
    "**Task 12 (`stretch goal`):** Using your best model, create a PDP interaction plot to examine how `'Latitude'` and `'Longitude'` inform predictions. Remember to user your validation data.\n",
    "\n",
    "**Note:** Because of the way that `pdp_interact` works, it will throw an error if there are `NaN` values in your validation set. To avoid this problem, be sure to set `dataset` to `X_val.dropna()`."
   ]
  },
  {
   "cell_type": "code",
   "execution_count": 28,
   "metadata": {
    "colab": {
     "base_uri": "https://localhost:8080/",
     "height": 398
    },
    "deletable": false,
    "id": "UZxlY8IWhkhx",
    "nbgrader": {
     "cell_type": "code",
     "checksum": "ea5a8422d2efafe17ee63a77c5db1e41",
     "grade": false,
     "grade_id": "cell-224d3b408f9bdd88",
     "locked": false,
     "schema_version": 3,
     "solution": true,
     "task": false
    },
    "outputId": "f5b807fb-dbed-4018-e8ff-7327cb1e1489"
   },
   "outputs": [
    {
     "ename": "ValueError",
     "evalue": "No objects to concatenate",
     "output_type": "error",
     "traceback": [
      "\u001b[1;31m---------------------------------------------------------------------------\u001b[0m",
      "\u001b[1;31mValueError\u001b[0m                                Traceback (most recent call last)",
      "\u001b[1;32m<ipython-input-28-096ff69bfc4f>\u001b[0m in \u001b[0;36m<module>\u001b[1;34m\u001b[0m\n\u001b[0;32m      8\u001b[0m     \u001b[0mdataset\u001b[0m \u001b[1;33m=\u001b[0m \u001b[0mX_val\u001b[0m\u001b[1;33m,\u001b[0m\u001b[1;33m\u001b[0m\u001b[1;33m\u001b[0m\u001b[0m\n\u001b[0;32m      9\u001b[0m     \u001b[0mmodel_features\u001b[0m \u001b[1;33m=\u001b[0m \u001b[0mX_val\u001b[0m\u001b[1;33m.\u001b[0m\u001b[0mcolumns\u001b[0m\u001b[1;33m,\u001b[0m\u001b[1;33m\u001b[0m\u001b[1;33m\u001b[0m\u001b[0m\n\u001b[1;32m---> 10\u001b[1;33m     \u001b[0mfeatures\u001b[0m \u001b[1;33m=\u001b[0m \u001b[0mfeatures\u001b[0m\u001b[1;33m\u001b[0m\u001b[1;33m\u001b[0m\u001b[0m\n\u001b[0m\u001b[0;32m     11\u001b[0m )\n\u001b[0;32m     12\u001b[0m \u001b[0mpdp_interact_plot\u001b[0m\u001b[1;33m(\u001b[0m\u001b[0minteract\u001b[0m\u001b[1;33m,\u001b[0m\u001b[0mplot_type\u001b[0m\u001b[1;33m=\u001b[0m\u001b[1;34m'grid'\u001b[0m\u001b[1;33m,\u001b[0m\u001b[0mfeature_names\u001b[0m\u001b[1;33m=\u001b[0m\u001b[0mfeatures\u001b[0m\u001b[1;33m)\u001b[0m\u001b[1;33m;\u001b[0m\u001b[1;33m\u001b[0m\u001b[1;33m\u001b[0m\u001b[0m\n",
      "\u001b[1;32mE:\\LambdaStuff\\envs\\unit2\\lib\\site-packages\\pdpbox\\pdp.py\u001b[0m in \u001b[0;36mpdp_interact\u001b[1;34m(model, dataset, model_features, features, num_grid_points, grid_types, percentile_ranges, grid_ranges, cust_grid_points, memory_limit, n_jobs, predict_kwds, data_transformer)\u001b[0m\n\u001b[0;32m    551\u001b[0m             \u001b[0mnum_grid_points\u001b[0m\u001b[1;33m=\u001b[0m\u001b[0mnum_grid_points\u001b[0m\u001b[1;33m[\u001b[0m\u001b[0midx\u001b[0m\u001b[1;33m]\u001b[0m\u001b[1;33m,\u001b[0m \u001b[0mgrid_type\u001b[0m\u001b[1;33m=\u001b[0m\u001b[0mgrid_types\u001b[0m\u001b[1;33m[\u001b[0m\u001b[0midx\u001b[0m\u001b[1;33m]\u001b[0m\u001b[1;33m,\u001b[0m \u001b[0mpercentile_range\u001b[0m\u001b[1;33m=\u001b[0m\u001b[0mpercentile_ranges\u001b[0m\u001b[1;33m[\u001b[0m\u001b[0midx\u001b[0m\u001b[1;33m]\u001b[0m\u001b[1;33m,\u001b[0m\u001b[1;33m\u001b[0m\u001b[1;33m\u001b[0m\u001b[0m\n\u001b[0;32m    552\u001b[0m             \u001b[0mgrid_range\u001b[0m\u001b[1;33m=\u001b[0m\u001b[0mgrid_ranges\u001b[0m\u001b[1;33m[\u001b[0m\u001b[0midx\u001b[0m\u001b[1;33m]\u001b[0m\u001b[1;33m,\u001b[0m \u001b[0mcust_grid_points\u001b[0m\u001b[1;33m=\u001b[0m\u001b[0mcust_grid_points\u001b[0m\u001b[1;33m[\u001b[0m\u001b[0midx\u001b[0m\u001b[1;33m]\u001b[0m\u001b[1;33m,\u001b[0m \u001b[0mmemory_limit\u001b[0m\u001b[1;33m=\u001b[0m\u001b[0mmemory_limit\u001b[0m\u001b[1;33m,\u001b[0m\u001b[1;33m\u001b[0m\u001b[1;33m\u001b[0m\u001b[0m\n\u001b[1;32m--> 553\u001b[1;33m             n_jobs=n_jobs, predict_kwds=predict_kwds, data_transformer=data_transformer)\n\u001b[0m\u001b[0;32m    554\u001b[0m         \u001b[0mpdp_isolate_outs\u001b[0m\u001b[1;33m.\u001b[0m\u001b[0mappend\u001b[0m\u001b[1;33m(\u001b[0m\u001b[0mpdp_isolate_out\u001b[0m\u001b[1;33m)\u001b[0m\u001b[1;33m\u001b[0m\u001b[1;33m\u001b[0m\u001b[0m\n\u001b[0;32m    555\u001b[0m \u001b[1;33m\u001b[0m\u001b[0m\n",
      "\u001b[1;32mE:\\LambdaStuff\\envs\\unit2\\lib\\site-packages\\pdpbox\\pdp.py\u001b[0m in \u001b[0;36mpdp_isolate\u001b[1;34m(model, dataset, model_features, feature, num_grid_points, grid_type, percentile_range, grid_range, cust_grid_points, memory_limit, n_jobs, predict_kwds, data_transformer)\u001b[0m\n\u001b[0;32m    162\u001b[0m             \u001b[0mice_lines\u001b[0m\u001b[1;33m.\u001b[0m\u001b[0mappend\u001b[0m\u001b[1;33m(\u001b[0m\u001b[0mice_line_n_class\u001b[0m\u001b[1;33m)\u001b[0m\u001b[1;33m\u001b[0m\u001b[1;33m\u001b[0m\u001b[0m\n\u001b[0;32m    163\u001b[0m     \u001b[1;32melse\u001b[0m\u001b[1;33m:\u001b[0m\u001b[1;33m\u001b[0m\u001b[1;33m\u001b[0m\u001b[0m\n\u001b[1;32m--> 164\u001b[1;33m         \u001b[0mice_lines\u001b[0m \u001b[1;33m=\u001b[0m \u001b[0mpd\u001b[0m\u001b[1;33m.\u001b[0m\u001b[0mconcat\u001b[0m\u001b[1;33m(\u001b[0m\u001b[0mgrid_results\u001b[0m\u001b[1;33m,\u001b[0m \u001b[0maxis\u001b[0m\u001b[1;33m=\u001b[0m\u001b[1;36m1\u001b[0m\u001b[1;33m)\u001b[0m\u001b[1;33m\u001b[0m\u001b[1;33m\u001b[0m\u001b[0m\n\u001b[0m\u001b[0;32m    165\u001b[0m \u001b[1;33m\u001b[0m\u001b[0m\n\u001b[0;32m    166\u001b[0m     \u001b[1;31m# calculate the counts\u001b[0m\u001b[1;33m\u001b[0m\u001b[1;33m\u001b[0m\u001b[1;33m\u001b[0m\u001b[0m\n",
      "\u001b[1;32mE:\\LambdaStuff\\envs\\unit2\\lib\\site-packages\\pandas\\core\\reshape\\concat.py\u001b[0m in \u001b[0;36mconcat\u001b[1;34m(objs, axis, join, ignore_index, keys, levels, names, verify_integrity, sort, copy)\u001b[0m\n\u001b[0;32m    293\u001b[0m         \u001b[0mverify_integrity\u001b[0m\u001b[1;33m=\u001b[0m\u001b[0mverify_integrity\u001b[0m\u001b[1;33m,\u001b[0m\u001b[1;33m\u001b[0m\u001b[1;33m\u001b[0m\u001b[0m\n\u001b[0;32m    294\u001b[0m         \u001b[0mcopy\u001b[0m\u001b[1;33m=\u001b[0m\u001b[0mcopy\u001b[0m\u001b[1;33m,\u001b[0m\u001b[1;33m\u001b[0m\u001b[1;33m\u001b[0m\u001b[0m\n\u001b[1;32m--> 295\u001b[1;33m         \u001b[0msort\u001b[0m\u001b[1;33m=\u001b[0m\u001b[0msort\u001b[0m\u001b[1;33m,\u001b[0m\u001b[1;33m\u001b[0m\u001b[1;33m\u001b[0m\u001b[0m\n\u001b[0m\u001b[0;32m    296\u001b[0m     )\n\u001b[0;32m    297\u001b[0m \u001b[1;33m\u001b[0m\u001b[0m\n",
      "\u001b[1;32mE:\\LambdaStuff\\envs\\unit2\\lib\\site-packages\\pandas\\core\\reshape\\concat.py\u001b[0m in \u001b[0;36m__init__\u001b[1;34m(self, objs, axis, join, keys, levels, names, ignore_index, verify_integrity, copy, sort)\u001b[0m\n\u001b[0;32m    340\u001b[0m \u001b[1;33m\u001b[0m\u001b[0m\n\u001b[0;32m    341\u001b[0m         \u001b[1;32mif\u001b[0m \u001b[0mlen\u001b[0m\u001b[1;33m(\u001b[0m\u001b[0mobjs\u001b[0m\u001b[1;33m)\u001b[0m \u001b[1;33m==\u001b[0m \u001b[1;36m0\u001b[0m\u001b[1;33m:\u001b[0m\u001b[1;33m\u001b[0m\u001b[1;33m\u001b[0m\u001b[0m\n\u001b[1;32m--> 342\u001b[1;33m             \u001b[1;32mraise\u001b[0m \u001b[0mValueError\u001b[0m\u001b[1;33m(\u001b[0m\u001b[1;34m\"No objects to concatenate\"\u001b[0m\u001b[1;33m)\u001b[0m\u001b[1;33m\u001b[0m\u001b[1;33m\u001b[0m\u001b[0m\n\u001b[0m\u001b[0;32m    343\u001b[0m \u001b[1;33m\u001b[0m\u001b[0m\n\u001b[0;32m    344\u001b[0m         \u001b[1;32mif\u001b[0m \u001b[0mkeys\u001b[0m \u001b[1;32mis\u001b[0m \u001b[1;32mNone\u001b[0m\u001b[1;33m:\u001b[0m\u001b[1;33m\u001b[0m\u001b[1;33m\u001b[0m\u001b[0m\n",
      "\u001b[1;31mValueError\u001b[0m: No objects to concatenate"
     ]
    }
   ],
   "source": [
    "'''T12. Create PDP interaction plot for \"Latitude\" and \"Longitude\".'''\n",
    "from pdpbox.pdp import pdp_interact, pdp_interact_plot\n",
    "\n",
    "features = ['Longitude', 'Latitude']\n",
    "\n",
    "interact = pdp_interact(\n",
    "    model = model_boost,\n",
    "    dataset = X_val,\n",
    "    model_features = X_val.columns,\n",
    "    features = features\n",
    ")\n",
    "pdp_interact_plot(interact,plot_type='grid',feature_names=features);"
   ]
  },
  {
   "cell_type": "markdown",
   "metadata": {
    "deletable": false,
    "editable": false,
    "id": "ldnI4CIyhkhy",
    "nbgrader": {
     "cell_type": "markdown",
     "checksum": "ea11277dc1543cb3a51dc7cf050af8a9",
     "grade": false,
     "grade_id": "cell-60908df556f5057e",
     "locked": true,
     "schema_version": 3,
     "solution": false,
     "task": false
    }
   },
   "source": [
    "What do you think? Is there a relationship between location and failing a food saftey inspection?"
   ]
  }
 ],
 "metadata": {
  "colab": {
   "name": "DS_Sprint_Challenge_23.ipynb",
   "provenance": []
  },
  "kernelspec": {
   "display_name": "Python 3",
   "language": "python",
   "name": "python3"
  },
  "language_info": {
   "codemirror_mode": {
    "name": "ipython",
    "version": 3
   },
   "file_extension": ".py",
   "mimetype": "text/x-python",
   "name": "python",
   "nbconvert_exporter": "python",
   "pygments_lexer": "ipython3",
   "version": "3.7.10"
  }
 },
 "nbformat": 4,
 "nbformat_minor": 1
}
